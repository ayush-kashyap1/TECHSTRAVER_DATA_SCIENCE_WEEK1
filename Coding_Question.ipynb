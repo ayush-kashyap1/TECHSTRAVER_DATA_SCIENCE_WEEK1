{
 "cells": [
  {
   "cell_type": "markdown",
   "source": [
    "## Lists\n"
   ],
   "metadata": {
    "collapsed": false
   },
   "id": "40e7a8d0b18710d8"
  },
  {
   "cell_type": "code",
   "execution_count": 1,
   "outputs": [
    {
     "name": "stdout",
     "output_type": "stream",
     "text": [
      "Original List: [1, 2, 3, 4, 5]\n"
     ]
    }
   ],
   "source": [
    "# Create a list\n",
    "my_list = [1, 2, 3, 4, 5]\n",
    "print(\"Original List:\", my_list)"
   ],
   "metadata": {
    "collapsed": false,
    "ExecuteTime": {
     "end_time": "2024-07-09T20:36:29.939492500Z",
     "start_time": "2024-07-09T20:36:29.898737800Z"
    }
   },
   "id": "ecba2b98721dc140"
  },
  {
   "cell_type": "code",
   "execution_count": 2,
   "outputs": [
    {
     "name": "stdout",
     "output_type": "stream",
     "text": [
      "Appended List: [1, 2, 3, 4, 5, 6]\n"
     ]
    }
   ],
   "source": [
    "# Append an element\n",
    "my_list.append(6)\n",
    "print(\"Appended List:\", my_list)"
   ],
   "metadata": {
    "collapsed": false,
    "ExecuteTime": {
     "end_time": "2024-07-09T20:36:52.314391Z",
     "start_time": "2024-07-09T20:36:52.240526100Z"
    }
   },
   "id": "df63060b501058c0"
  },
  {
   "cell_type": "code",
   "execution_count": 3,
   "outputs": [
    {
     "name": "stdout",
     "output_type": "stream",
     "text": [
      "Reversed List: [6, 5, 4, 3, 2, 1]\n"
     ]
    }
   ],
   "source": [
    "# Reverse the list\n",
    "my_list.reverse()\n",
    "print(\"Reversed List:\", my_list)"
   ],
   "metadata": {
    "collapsed": false,
    "ExecuteTime": {
     "end_time": "2024-07-09T20:37:05.362253800Z",
     "start_time": "2024-07-09T20:37:05.353833100Z"
    }
   },
   "id": "931f9b259ea439c5"
  },
  {
   "cell_type": "code",
   "execution_count": 4,
   "outputs": [
    {
     "name": "stdout",
     "output_type": "stream",
     "text": [
      "List after deletion: [5, 4, 3, 2, 1]\n"
     ]
    }
   ],
   "source": [
    "# Delete an element\n",
    "del my_list[0]\n",
    "print(\"List after deletion:\", my_list)"
   ],
   "metadata": {
    "collapsed": false,
    "ExecuteTime": {
     "end_time": "2024-07-09T20:37:31.567800Z",
     "start_time": "2024-07-09T20:37:31.503276400Z"
    }
   },
   "id": "8b334a8eb1e6bbd1"
  },
  {
   "cell_type": "markdown",
   "source": [
    " ## Dictionaries"
   ],
   "metadata": {
    "collapsed": false
   },
   "id": "4c497dedd5177a2b"
  },
  {
   "cell_type": "code",
   "execution_count": 5,
   "outputs": [
    {
     "name": "stdout",
     "output_type": "stream",
     "text": [
      "Original Dictionary: {'a': 1, 'b': 2, 'c': 3}\n"
     ]
    }
   ],
   "source": [
    "# Create a dictionary\n",
    "my_dict = {'a': 1, 'b': 2, 'c': 3}\n",
    "print(\"Original Dictionary:\", my_dict)"
   ],
   "metadata": {
    "collapsed": false,
    "ExecuteTime": {
     "end_time": "2024-07-09T20:38:04.213763100Z",
     "start_time": "2024-07-09T20:38:04.199124500Z"
    }
   },
   "id": "8037a24b1c107186"
  },
  {
   "cell_type": "code",
   "execution_count": 6,
   "outputs": [
    {
     "name": "stdout",
     "output_type": "stream",
     "text": [
      "Dictionary after addition: {'a': 1, 'b': 2, 'c': 3, 'd': 4}\n"
     ]
    }
   ],
   "source": [
    "# Add a new key-value pair\n",
    "my_dict['d'] = 4\n",
    "print(\"Dictionary after addition:\", my_dict)"
   ],
   "metadata": {
    "collapsed": false,
    "ExecuteTime": {
     "end_time": "2024-07-09T20:38:16.779008900Z",
     "start_time": "2024-07-09T20:38:16.750407Z"
    }
   },
   "id": "1ef1ffd3e48197fb"
  },
  {
   "cell_type": "code",
   "execution_count": 7,
   "outputs": [
    {
     "name": "stdout",
     "output_type": "stream",
     "text": [
      "Dictionary after deletion: {'b': 2, 'c': 3, 'd': 4}\n"
     ]
    }
   ],
   "source": [
    "# Delete a key-value pair\n",
    "del my_dict['a']\n",
    "print(\"Dictionary after deletion:\", my_dict)"
   ],
   "metadata": {
    "collapsed": false,
    "ExecuteTime": {
     "end_time": "2024-07-09T20:38:30.497337600Z",
     "start_time": "2024-07-09T20:38:30.458619100Z"
    }
   },
   "id": "d222b9b9ba58aa17"
  },
  {
   "cell_type": "markdown",
   "source": [
    " ## Sets"
   ],
   "metadata": {
    "collapsed": false
   },
   "id": "9b293a7c84f0d981"
  },
  {
   "cell_type": "code",
   "execution_count": 9,
   "outputs": [
    {
     "name": "stdout",
     "output_type": "stream",
     "text": [
      "Original Set: {1, 2, 3, 4, 5}\n"
     ]
    }
   ],
   "source": [
    "# Create a set\n",
    "my_set = {1, 2, 3, 4, 5}\n",
    "print(\"Original Set:\", my_set)"
   ],
   "metadata": {
    "collapsed": false,
    "ExecuteTime": {
     "end_time": "2024-07-09T20:39:09.222024Z",
     "start_time": "2024-07-09T20:39:09.194864400Z"
    }
   },
   "id": "faf87879e56a1d30"
  },
  {
   "cell_type": "code",
   "execution_count": 10,
   "outputs": [
    {
     "name": "stdout",
     "output_type": "stream",
     "text": [
      "Set after addition: {1, 2, 3, 4, 5, 6}\n"
     ]
    }
   ],
   "source": [
    "# Add an element\n",
    "my_set.add(6)\n",
    "print(\"Set after addition:\", my_set)"
   ],
   "metadata": {
    "collapsed": false,
    "ExecuteTime": {
     "end_time": "2024-07-09T20:39:19.816957Z",
     "start_time": "2024-07-09T20:39:19.757185400Z"
    }
   },
   "id": "79691ec91bcff535"
  },
  {
   "cell_type": "code",
   "execution_count": 11,
   "outputs": [
    {
     "name": "stdout",
     "output_type": "stream",
     "text": [
      "Set after removal: {2, 3, 4, 5, 6}\n"
     ]
    }
   ],
   "source": [
    "# Remove an element\n",
    "my_set.remove(1)\n",
    "print(\"Set after removal:\", my_set)"
   ],
   "metadata": {
    "collapsed": false,
    "ExecuteTime": {
     "end_time": "2024-07-09T20:39:31.153754600Z",
     "start_time": "2024-07-09T20:39:31.076516500Z"
    }
   },
   "id": "591323ecdda007ab"
  },
  {
   "cell_type": "markdown",
   "source": [
    " ## Tuples"
   ],
   "metadata": {
    "collapsed": false
   },
   "id": "21e03eef2082c225"
  },
  {
   "cell_type": "code",
   "execution_count": 12,
   "outputs": [
    {
     "name": "stdout",
     "output_type": "stream",
     "text": [
      "Original Tuple: (1, 2, 3, 4, 5)\n"
     ]
    }
   ],
   "source": [
    "# Create a tuple\n",
    "my_tuple = (1, 2, 3, 4, 5)\n",
    "print(\"Original Tuple:\", my_tuple)"
   ],
   "metadata": {
    "collapsed": false,
    "ExecuteTime": {
     "end_time": "2024-07-09T20:39:55.404160100Z",
     "start_time": "2024-07-09T20:39:55.372193100Z"
    }
   },
   "id": "9b8c83ccee221ae1"
  },
  {
   "cell_type": "code",
   "execution_count": 13,
   "outputs": [
    {
     "name": "stdout",
     "output_type": "stream",
     "text": [
      "Tuple after concatenation: (1, 2, 3, 4, 5, 6)\n"
     ]
    }
   ],
   "source": [
    "# Concatenate a tuple\n",
    "my_tuple += (6,)\n",
    "print(\"Tuple after concatenation:\", my_tuple)"
   ],
   "metadata": {
    "collapsed": false,
    "ExecuteTime": {
     "end_time": "2024-07-09T20:40:05.220220500Z",
     "start_time": "2024-07-09T20:40:05.158962300Z"
    }
   },
   "id": "f17fa63f18070aae"
  },
  {
   "cell_type": "code",
   "execution_count": 14,
   "outputs": [
    {
     "name": "stdout",
     "output_type": "stream",
     "text": [
      "Reversed Tuple: (6, 5, 4, 3, 2, 1)\n"
     ]
    }
   ],
   "source": [
    "# Reverse the tuple (create a new tuple with reversed elements)\n",
    "reversed_tuple = my_tuple[::-1]\n",
    "print(\"Reversed Tuple:\", reversed_tuple)"
   ],
   "metadata": {
    "collapsed": false,
    "ExecuteTime": {
     "end_time": "2024-07-09T20:40:14.842208500Z",
     "start_time": "2024-07-09T20:40:14.778697600Z"
    }
   },
   "id": "7ea06213e7202313"
  },
  {
   "cell_type": "code",
   "execution_count": null,
   "outputs": [],
   "source": [],
   "metadata": {
    "collapsed": false
   },
   "id": "87e080430a8d56db"
  }
 ],
 "metadata": {
  "kernelspec": {
   "display_name": "Python 3",
   "language": "python",
   "name": "python3"
  },
  "language_info": {
   "codemirror_mode": {
    "name": "ipython",
    "version": 2
   },
   "file_extension": ".py",
   "mimetype": "text/x-python",
   "name": "python",
   "nbconvert_exporter": "python",
   "pygments_lexer": "ipython2",
   "version": "2.7.6"
  }
 },
 "nbformat": 4,
 "nbformat_minor": 5
}
